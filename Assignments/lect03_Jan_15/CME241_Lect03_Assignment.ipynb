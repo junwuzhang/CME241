{
 "cells": [
  {
   "cell_type": "markdown",
   "metadata": {},
   "source": [
    "1. Write code for Policy Evaluation (tabular) algorithm"
   ]
  },
  {
   "cell_type": "code",
   "execution_count": 4,
   "metadata": {},
   "outputs": [
    {
     "ename": "SyntaxError",
     "evalue": "unexpected EOF while parsing (<ipython-input-4-87df54df9d87>, line 15)",
     "output_type": "error",
     "traceback": [
      "\u001b[0;36m  File \u001b[0;32m\"<ipython-input-4-87df54df9d87>\"\u001b[0;36m, line \u001b[0;32m15\u001b[0m\n\u001b[0;31m    def reward(state):\u001b[0m\n\u001b[0m                      ^\u001b[0m\n\u001b[0;31mSyntaxError\u001b[0m\u001b[0;31m:\u001b[0m unexpected EOF while parsing\n"
     ]
    }
   ],
   "source": [
    "# Construct gridworld environment\n",
    "import numpy as np\n",
    "import pandas as pd\n",
    "\n",
    "class gridWorld:\n",
    "    def __init__(self, gamma, transition_matrix):\n",
    "        self.gamma_ = gamma\n",
    "        # transition matrix maps current state & reward to the next state & reward, based on current action taken\n",
    "        # data type of transition should be map<map<state, reward>, map<action, (state, reward)>>\n",
    "        self.transition_matrix_ = transition_matrix\n",
    "        self.actions_ = (\"up\", \"down\", \"left\", \"right\")\n",
    "        self.states_ = np.zeros(16)\n",
    "    def next_state(state_value_pair, action):\n",
    "        return transition_matrix_[state_value_pair][action][1]   \n",
    "    def reward(state):\n",
    "        return "
   ]
  },
  {
   "cell_type": "code",
   "execution_count": null,
   "metadata": {},
   "outputs": [],
   "source": [
    "import gridWorld\n",
    "import random\n",
    "\n",
    "# create policy\n",
    "def policy_creation():\n",
    "    policy = []\n",
    "    for i in range(1,16):\n",
    "        policy.append(random.choice(actions_))\n",
    "# evaluate policy\n",
    "def policy_evaluation(policy):\n",
    "    for state in states_:\n",
    "        for action in policy:\n",
    "            value += ()"
   ]
  },
  {
   "cell_type": "markdown",
   "metadata": {},
   "source": [
    "2. Write code for Policy Iteration (tabular) algorithm"
   ]
  },
  {
   "cell_type": "code",
   "execution_count": null,
   "metadata": {},
   "outputs": [],
   "source": []
  },
  {
   "cell_type": "markdown",
   "metadata": {},
   "source": [
    "3. Write code for Value Iteration (tabular) algorithm"
   ]
  },
  {
   "cell_type": "code",
   "execution_count": null,
   "metadata": {},
   "outputs": [],
   "source": []
  },
  {
   "cell_type": "markdown",
   "metadata": {},
   "source": [
    "4. Those familiar with function approximation (deep networks, or simply linear in featues) can try writing code for the above algorithms with function approximation (a.k.a. Approximate DP)"
   ]
  },
  {
   "cell_type": "code",
   "execution_count": null,
   "metadata": {},
   "outputs": [],
   "source": []
  }
 ],
 "metadata": {
  "kernelspec": {
   "display_name": "Python 3",
   "language": "python",
   "name": "python3"
  },
  "language_info": {
   "codemirror_mode": {
    "name": "ipython",
    "version": 3
   },
   "file_extension": ".py",
   "mimetype": "text/x-python",
   "name": "python",
   "nbconvert_exporter": "python",
   "pygments_lexer": "ipython3",
   "version": "3.7.0"
  }
 },
 "nbformat": 4,
 "nbformat_minor": 2
}
